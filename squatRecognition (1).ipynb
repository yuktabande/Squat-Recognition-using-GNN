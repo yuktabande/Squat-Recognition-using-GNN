{
  "nbformat": 4,
  "nbformat_minor": 0,
  "metadata": {
    "colab": {
      "provenance": [],
      "gpuType": "T4"
    },
    "kernelspec": {
      "name": "python3",
      "display_name": "Python 3"
    },
    "language_info": {
      "name": "python"
    },
    "accelerator": "GPU"
  },
  "cells": [
    {
      "cell_type": "code",
      "source": [
        "!ls -lh /content\n",
        "!rm -rf /content/sample_data  # Example: Deleting sample data\n"
      ],
      "metadata": {
        "colab": {
          "base_uri": "https://localhost:8080/"
        },
        "id": "8pEZcICHncdg",
        "outputId": "9f8cdb93-75bd-4b96-e3df-737912210c23"
      },
      "execution_count": 1,
      "outputs": [
        {
          "output_type": "stream",
          "name": "stdout",
          "text": [
            "total 4.0K\n",
            "drwxr-xr-x 1 root root 4.0K Feb 21 14:21 sample_data\n"
          ]
        }
      ]
    },
    {
      "cell_type": "code",
      "source": [
        "!du -h /content | sort -rh | head -n 20  # Show largest files\n",
        "!rm -rf /content/your_large_file  # Replace with the actual file path"
      ],
      "metadata": {
        "colab": {
          "base_uri": "https://localhost:8080/"
        },
        "id": "bIwWhyT7nlFp",
        "outputId": "9ced4949-c67a-4559-a129-ae4e78ce2ef5"
      },
      "execution_count": 2,
      "outputs": [
        {
          "output_type": "stream",
          "name": "stdout",
          "text": [
            "148K\t/content\n",
            "140K\t/content/.config\n",
            "84K\t/content/.config/logs\n",
            "80K\t/content/.config/logs/2025.02.21\n",
            "8.0K\t/content/.config/configurations\n"
          ]
        }
      ]
    },
    {
      "cell_type": "code",
      "source": [
        "from google.colab import drive\n",
        "drive.flush_and_unmount()"
      ],
      "metadata": {
        "colab": {
          "base_uri": "https://localhost:8080/"
        },
        "id": "0KuGKPYhnyEQ",
        "outputId": "a50931be-b8df-425d-d19d-0d9e404a95ba"
      },
      "execution_count": 3,
      "outputs": [
        {
          "output_type": "stream",
          "name": "stdout",
          "text": [
            "Drive not mounted, so nothing to flush and unmount.\n"
          ]
        }
      ]
    },
    {
      "cell_type": "code",
      "execution_count": 5,
      "metadata": {
        "colab": {
          "base_uri": "https://localhost:8080/"
        },
        "id": "wKvrEusIjzwW",
        "outputId": "152fbd5d-b141-4da0-fbfc-32ffef4b37a3"
      },
      "outputs": [
        {
          "output_type": "stream",
          "name": "stdout",
          "text": [
            "Requirement already satisfied: pycocotools in /usr/local/lib/python3.11/dist-packages (2.0.8)\n",
            "Requirement already satisfied: opencv-python in /usr/local/lib/python3.11/dist-packages (4.11.0.86)\n",
            "Requirement already satisfied: matplotlib in /usr/local/lib/python3.11/dist-packages (3.10.0)\n",
            "Requirement already satisfied: numpy in /usr/local/lib/python3.11/dist-packages (from pycocotools) (1.26.4)\n",
            "Requirement already satisfied: contourpy>=1.0.1 in /usr/local/lib/python3.11/dist-packages (from matplotlib) (1.3.1)\n",
            "Requirement already satisfied: cycler>=0.10 in /usr/local/lib/python3.11/dist-packages (from matplotlib) (0.12.1)\n",
            "Requirement already satisfied: fonttools>=4.22.0 in /usr/local/lib/python3.11/dist-packages (from matplotlib) (4.56.0)\n",
            "Requirement already satisfied: kiwisolver>=1.3.1 in /usr/local/lib/python3.11/dist-packages (from matplotlib) (1.4.8)\n",
            "Requirement already satisfied: packaging>=20.0 in /usr/local/lib/python3.11/dist-packages (from matplotlib) (24.2)\n",
            "Requirement already satisfied: pillow>=8 in /usr/local/lib/python3.11/dist-packages (from matplotlib) (11.1.0)\n",
            "Requirement already satisfied: pyparsing>=2.3.1 in /usr/local/lib/python3.11/dist-packages (from matplotlib) (3.2.1)\n",
            "Requirement already satisfied: python-dateutil>=2.7 in /usr/local/lib/python3.11/dist-packages (from matplotlib) (2.8.2)\n",
            "Requirement already satisfied: six>=1.5 in /usr/local/lib/python3.11/dist-packages (from python-dateutil>=2.7->matplotlib) (1.17.0)\n"
          ]
        }
      ],
      "source": [
        "pip install pycocotools opencv-python matplotlib"
      ]
    },
    {
      "cell_type": "code",
      "source": [
        "pip install torch_geometric"
      ],
      "metadata": {
        "colab": {
          "base_uri": "https://localhost:8080/"
        },
        "id": "x3_YDh3Xp1CT",
        "outputId": "d34c35da-31f6-4a66-c9bc-faf96e66093f"
      },
      "execution_count": 11,
      "outputs": [
        {
          "output_type": "stream",
          "name": "stdout",
          "text": [
            "Collecting torch_geometric\n",
            "  Downloading torch_geometric-2.6.1-py3-none-any.whl.metadata (63 kB)\n",
            "\u001b[?25l     \u001b[90m━━━━━━━━━━━━━━━━━━━━━━━━━━━━━━━━━━━━━━━━\u001b[0m \u001b[32m0.0/63.1 kB\u001b[0m \u001b[31m?\u001b[0m eta \u001b[36m-:--:--\u001b[0m\r\u001b[2K     \u001b[90m━━━━━━━━━━━━━━━━━━━━━━━━━━━━━━━━━━━━━━━━\u001b[0m \u001b[32m63.1/63.1 kB\u001b[0m \u001b[31m1.7 MB/s\u001b[0m eta \u001b[36m0:00:00\u001b[0m\n",
            "\u001b[?25hRequirement already satisfied: aiohttp in /usr/local/lib/python3.11/dist-packages (from torch_geometric) (3.11.12)\n",
            "Requirement already satisfied: fsspec in /usr/local/lib/python3.11/dist-packages (from torch_geometric) (2024.10.0)\n",
            "Requirement already satisfied: jinja2 in /usr/local/lib/python3.11/dist-packages (from torch_geometric) (3.1.5)\n",
            "Requirement already satisfied: numpy in /usr/local/lib/python3.11/dist-packages (from torch_geometric) (1.26.4)\n",
            "Requirement already satisfied: psutil>=5.8.0 in /usr/local/lib/python3.11/dist-packages (from torch_geometric) (5.9.5)\n",
            "Requirement already satisfied: pyparsing in /usr/local/lib/python3.11/dist-packages (from torch_geometric) (3.2.1)\n",
            "Requirement already satisfied: requests in /usr/local/lib/python3.11/dist-packages (from torch_geometric) (2.32.3)\n",
            "Requirement already satisfied: tqdm in /usr/local/lib/python3.11/dist-packages (from torch_geometric) (4.67.1)\n",
            "Requirement already satisfied: aiohappyeyeballs>=2.3.0 in /usr/local/lib/python3.11/dist-packages (from aiohttp->torch_geometric) (2.4.6)\n",
            "Requirement already satisfied: aiosignal>=1.1.2 in /usr/local/lib/python3.11/dist-packages (from aiohttp->torch_geometric) (1.3.2)\n",
            "Requirement already satisfied: attrs>=17.3.0 in /usr/local/lib/python3.11/dist-packages (from aiohttp->torch_geometric) (25.1.0)\n",
            "Requirement already satisfied: frozenlist>=1.1.1 in /usr/local/lib/python3.11/dist-packages (from aiohttp->torch_geometric) (1.5.0)\n",
            "Requirement already satisfied: multidict<7.0,>=4.5 in /usr/local/lib/python3.11/dist-packages (from aiohttp->torch_geometric) (6.1.0)\n",
            "Requirement already satisfied: propcache>=0.2.0 in /usr/local/lib/python3.11/dist-packages (from aiohttp->torch_geometric) (0.2.1)\n",
            "Requirement already satisfied: yarl<2.0,>=1.17.0 in /usr/local/lib/python3.11/dist-packages (from aiohttp->torch_geometric) (1.18.3)\n",
            "Requirement already satisfied: MarkupSafe>=2.0 in /usr/local/lib/python3.11/dist-packages (from jinja2->torch_geometric) (3.0.2)\n",
            "Requirement already satisfied: charset-normalizer<4,>=2 in /usr/local/lib/python3.11/dist-packages (from requests->torch_geometric) (3.4.1)\n",
            "Requirement already satisfied: idna<4,>=2.5 in /usr/local/lib/python3.11/dist-packages (from requests->torch_geometric) (3.10)\n",
            "Requirement already satisfied: urllib3<3,>=1.21.1 in /usr/local/lib/python3.11/dist-packages (from requests->torch_geometric) (2.3.0)\n",
            "Requirement already satisfied: certifi>=2017.4.17 in /usr/local/lib/python3.11/dist-packages (from requests->torch_geometric) (2025.1.31)\n",
            "Downloading torch_geometric-2.6.1-py3-none-any.whl (1.1 MB)\n",
            "\u001b[2K   \u001b[90m━━━━━━━━━━━━━━━━━━━━━━━━━━━━━━━━━━━━━━━━\u001b[0m \u001b[32m1.1/1.1 MB\u001b[0m \u001b[31m17.6 MB/s\u001b[0m eta \u001b[36m0:00:00\u001b[0m\n",
            "\u001b[?25hInstalling collected packages: torch_geometric\n",
            "Successfully installed torch_geometric-2.6.1\n"
          ]
        }
      ]
    },
    {
      "cell_type": "code",
      "source": [
        "import json\n",
        "import os\n",
        "import cv2\n",
        "import numpy as np\n",
        "from pycocotools.coco import COCO\n",
        "import matplotlib.pyplot as plt\n",
        "import torch.nn.functional as F\n",
        "from torch_geometric.data import Data, DataLoader\n",
        "import torch\n",
        "from torch_geometric.nn import GCNConv, global_mean_pool\n",
        "import torch.nn as nn\n",
        "import torch.optim as optim"
      ],
      "metadata": {
        "id": "0fd1FzWSkrR_"
      },
      "execution_count": 49,
      "outputs": []
    },
    {
      "cell_type": "code",
      "source": [
        "!pip install pycocotools\n",
        "from pycocotools.coco import COCO\n",
        "\n",
        "# Define the annotation file URL (2017 Train Annotations)\n",
        "annotation_file = \"http://images.cocodataset.org/annotations/annotations_trainval2017.zip\"\n",
        "\n",
        "# Download and extract it in Colab\n",
        "!wget $annotation_file\n",
        "!unzip -q annotations_trainval2017.zip\n",
        "\n",
        "# Load COCO annotations\n",
        "coco = COCO(\"annotations/person_keypoints_train2017.json\")\n"
      ],
      "metadata": {
        "colab": {
          "base_uri": "https://localhost:8080/"
        },
        "id": "Jg8-oAgboyqJ",
        "outputId": "c819adfc-732e-4a94-ec22-8395079376f2"
      },
      "execution_count": 4,
      "outputs": [
        {
          "output_type": "stream",
          "name": "stdout",
          "text": [
            "Requirement already satisfied: pycocotools in /usr/local/lib/python3.11/dist-packages (2.0.8)\n",
            "Requirement already satisfied: matplotlib>=2.1.0 in /usr/local/lib/python3.11/dist-packages (from pycocotools) (3.10.0)\n",
            "Requirement already satisfied: numpy in /usr/local/lib/python3.11/dist-packages (from pycocotools) (1.26.4)\n",
            "Requirement already satisfied: contourpy>=1.0.1 in /usr/local/lib/python3.11/dist-packages (from matplotlib>=2.1.0->pycocotools) (1.3.1)\n",
            "Requirement already satisfied: cycler>=0.10 in /usr/local/lib/python3.11/dist-packages (from matplotlib>=2.1.0->pycocotools) (0.12.1)\n",
            "Requirement already satisfied: fonttools>=4.22.0 in /usr/local/lib/python3.11/dist-packages (from matplotlib>=2.1.0->pycocotools) (4.56.0)\n",
            "Requirement already satisfied: kiwisolver>=1.3.1 in /usr/local/lib/python3.11/dist-packages (from matplotlib>=2.1.0->pycocotools) (1.4.8)\n",
            "Requirement already satisfied: packaging>=20.0 in /usr/local/lib/python3.11/dist-packages (from matplotlib>=2.1.0->pycocotools) (24.2)\n",
            "Requirement already satisfied: pillow>=8 in /usr/local/lib/python3.11/dist-packages (from matplotlib>=2.1.0->pycocotools) (11.1.0)\n",
            "Requirement already satisfied: pyparsing>=2.3.1 in /usr/local/lib/python3.11/dist-packages (from matplotlib>=2.1.0->pycocotools) (3.2.1)\n",
            "Requirement already satisfied: python-dateutil>=2.7 in /usr/local/lib/python3.11/dist-packages (from matplotlib>=2.1.0->pycocotools) (2.8.2)\n",
            "Requirement already satisfied: six>=1.5 in /usr/local/lib/python3.11/dist-packages (from python-dateutil>=2.7->matplotlib>=2.1.0->pycocotools) (1.17.0)\n",
            "--2025-02-26 05:03:17--  http://images.cocodataset.org/annotations/annotations_trainval2017.zip\n",
            "Resolving images.cocodataset.org (images.cocodataset.org)... 54.231.129.177, 52.217.206.9, 3.5.28.199, ...\n",
            "Connecting to images.cocodataset.org (images.cocodataset.org)|54.231.129.177|:80... connected.\n",
            "HTTP request sent, awaiting response... 200 OK\n",
            "Length: 252907541 (241M) [application/zip]\n",
            "Saving to: ‘annotations_trainval2017.zip’\n",
            "\n",
            "annotations_trainva 100%[===================>] 241.19M  96.1MB/s    in 2.5s    \n",
            "\n",
            "2025-02-26 05:03:20 (96.1 MB/s) - ‘annotations_trainval2017.zip’ saved [252907541/252907541]\n",
            "\n",
            "loading annotations into memory...\n",
            "Done (t=9.01s)\n",
            "creating index...\n",
            "index created!\n"
          ]
        }
      ]
    },
    {
      "cell_type": "code",
      "source": [
        "# Load COCO annotations\n",
        "coco = COCO(\"annotations/person_keypoints_train2017.json\")\n",
        "\n",
        "# Define squat-related keypoints\n",
        "KEYPOINTS_IDX = {\"hip_l\": 11, \"hip_r\": 12, \"knee_l\": 13, \"knee_r\": 14, \"ankle_l\": 15, \"ankle_r\": 16}"
      ],
      "metadata": {
        "colab": {
          "base_uri": "https://localhost:8080/"
        },
        "id": "Rza5ewnqozNc",
        "outputId": "ba5e3d97-7f37-40b3-94ee-8b281b27c494"
      },
      "execution_count": 7,
      "outputs": [
        {
          "output_type": "stream",
          "name": "stdout",
          "text": [
            "loading annotations into memory...\n",
            "Done (t=8.13s)\n",
            "creating index...\n",
            "index created!\n"
          ]
        }
      ]
    },
    {
      "cell_type": "code",
      "source": [
        "# Extract squat-related images\n",
        "def extract_squat_data(coco, num_samples=100):\n",
        "    squat_data = []\n",
        "\n",
        "    for img_id in coco.getImgIds():\n",
        "        ann_ids = coco.getAnnIds(imgIds=img_id, iscrowd=False)\n",
        "        annotations = coco.loadAnns(ann_ids)\n",
        "\n",
        "        for ann in annotations:\n",
        "            if 'keypoints' in ann and len(ann['keypoints']) == 51:  # Ensure all keypoints are present\n",
        "                keypoints = np.array(ann['keypoints']).reshape(-1, 3)  # (x, y, visibility)\n",
        "\n",
        "                # Extract relevant keypoints\n",
        "                hips = keypoints[[KEYPOINTS_IDX[\"hip_l\"], KEYPOINTS_IDX[\"hip_r\"]], :2]\n",
        "                knees = keypoints[[KEYPOINTS_IDX[\"knee_l\"], KEYPOINTS_IDX[\"knee_r\"]], :2]\n",
        "                ankles = keypoints[[KEYPOINTS_IDX[\"ankle_l\"], KEYPOINTS_IDX[\"ankle_r\"]], :2]\n",
        "\n",
        "                # Calculate heuristic: hip below knee → correct squat\n",
        "                squat_correct = (hips[:, 1].mean() > knees[:, 1].mean())  # Compare Y-coordinates\n",
        "\n",
        "                squat_data.append({\n",
        "                    \"image_id\": img_id,\n",
        "                    \"hips\": hips.tolist(),\n",
        "                    \"knees\": knees.tolist(),\n",
        "                    \"ankles\": ankles.tolist(),\n",
        "                    \"label\": int(squat_correct)  # 1 = correct, 0 = incorrect\n",
        "                })\n",
        "\n",
        "        if len(squat_data) >= num_samples:\n",
        "            break  # Stop when we have enough samples\n",
        "\n",
        "    return squat_data"
      ],
      "metadata": {
        "id": "XOTSGm9PpRiV"
      },
      "execution_count": 8,
      "outputs": []
    },
    {
      "cell_type": "code",
      "source": [
        "# Extract and save squat data\n",
        "squat_dataset = extract_squat_data(coco, num_samples=500)\n",
        "with open(\"squat_data.json\", \"w\") as f:\n",
        "    json.dump(squat_dataset, f)\n",
        "\n",
        "print(f\"✅ Preprocessed {len(squat_dataset)} squat samples.\")"
      ],
      "metadata": {
        "colab": {
          "base_uri": "https://localhost:8080/"
        },
        "id": "DGLd0kzypX1R",
        "outputId": "53c67ee1-99d0-48c6-e895-573e083179f1"
      },
      "execution_count": 9,
      "outputs": [
        {
          "output_type": "stream",
          "name": "stdout",
          "text": [
            "✅ Preprocessed 511 squat samples.\n"
          ]
        }
      ]
    },
    {
      "cell_type": "code",
      "source": [
        "# Load preprocessed squat data\n",
        "with open(\"squat_data.json\", \"r\") as f:\n",
        "    squat_dataset = json.load(f)"
      ],
      "metadata": {
        "id": "dDkrdaAFpa_K"
      },
      "execution_count": 13,
      "outputs": []
    },
    {
      "cell_type": "code",
      "source": [
        "# Define edges between joints\n",
        "edges = [\n",
        "    (0, 1), (1, 2),  # Left hip → left knee → left ankle\n",
        "    (3, 4), (4, 5),  # Right hip → right knee → right ankle\n",
        "    (0, 3),  # Left hip ↔ Right hip\n",
        "    (2, 5)   # Left ankle ↔ Right ankle\n",
        "]\n",
        "edge_index = torch.tensor(edges, dtype=torch.long).t().contiguous()"
      ],
      "metadata": {
        "id": "WGUt2dXLqEky"
      },
      "execution_count": 16,
      "outputs": []
    },
    {
      "cell_type": "code",
      "source": [
        "# Convert dataset into graph format\n",
        "def process_data(squat_dataset):\n",
        "    graph_data = []\n",
        "    for sample in squat_dataset:\n",
        "        # Normalize keypoints (divide by image width/height)\n",
        "        keypoints = np.array(sample[\"hips\"] + sample[\"knees\"] + sample[\"ankles\"])\n",
        "        keypoints = keypoints / np.max(keypoints)  # Normalize\n",
        "\n",
        "        # Convert to PyTorch tensors\n",
        "        x = torch.tensor(keypoints, dtype=torch.float)\n",
        "        y = torch.tensor(sample[\"label\"], dtype=torch.long)\n",
        "\n",
        "        # Create PyTorch Geometric graph\n",
        "        graph = Data(x=x, edge_index=edge_index, y=y)\n",
        "        graph_data.append(graph)\n",
        "\n",
        "    return graph_data"
      ],
      "metadata": {
        "id": "rgL18UlTqH_f"
      },
      "execution_count": 17,
      "outputs": []
    },
    {
      "cell_type": "code",
      "source": [
        "# Process dataset\n",
        "graph_dataset = process_data(squat_dataset)\n",
        "loader = DataLoader(graph_dataset, batch_size=32, shuffle=True)\n",
        "print(f\"✅ Processed {len(graph_dataset)} squat graphs.\")"
      ],
      "metadata": {
        "colab": {
          "base_uri": "https://localhost:8080/"
        },
        "id": "C3b_DomWqPg7",
        "outputId": "b5cc60b2-fd5d-47e5-8767-1b9d71821247"
      },
      "execution_count": 18,
      "outputs": [
        {
          "output_type": "stream",
          "name": "stdout",
          "text": [
            "✅ Processed 511 squat graphs.\n"
          ]
        },
        {
          "output_type": "stream",
          "name": "stderr",
          "text": [
            "<ipython-input-17-219f237e9991>:7: RuntimeWarning: invalid value encountered in divide\n",
            "  keypoints = keypoints / np.max(keypoints)  # Normalize\n",
            "/usr/local/lib/python3.11/dist-packages/torch_geometric/deprecation.py:26: UserWarning: 'data.DataLoader' is deprecated, use 'loader.DataLoader' instead\n",
            "  warnings.warn(out)\n"
          ]
        }
      ]
    },
    {
      "cell_type": "code",
      "source": [
        "class SquatGNN(torch.nn.Module):\n",
        "    def __init__(self):\n",
        "        super(SquatGNN, self).__init__()\n",
        "        self.conv1 = GCNConv(2, 16)  # Input: 2D keypoints, Output: 16 features\n",
        "        self.conv2 = GCNConv(16, 8)\n",
        "        self.fc = torch.nn.Linear(8, 2)  # Output: Binary classification (correct/incorrect)\n",
        "\n",
        "    def forward(self, data):\n",
        "        x, edge_index = data.x, data.edge_index\n",
        "        x = F.relu(self.conv1(x, edge_index))\n",
        "        x = F.relu(self.conv2(x, edge_index))\n",
        "        x = torch.mean(x, dim=0)  # Global pooling\n",
        "        return self.fc(x)"
      ],
      "metadata": {
        "id": "-5rUndIMqSB8"
      },
      "execution_count": 20,
      "outputs": []
    },
    {
      "cell_type": "code",
      "source": [
        "# Initialize model\n",
        "model = SquatGNN()\n",
        "optimizer = torch.optim.Adam(model.parameters(), lr=0.01)\n",
        "criterion = torch.nn.CrossEntropyLoss()"
      ],
      "metadata": {
        "id": "hU1SEewmqaxa"
      },
      "execution_count": 21,
      "outputs": []
    },
    {
      "cell_type": "code",
      "source": [
        "import torch\n",
        "from torch.utils.data import Dataset\n",
        "from pycocotools.coco import COCO\n",
        "\n",
        "# Load COCO dataset\n",
        "annotation_file = \"annotations/person_keypoints_train2017.json\"\n",
        "coco = COCO(annotation_file)\n",
        "\n",
        "# Get all person image IDs\n",
        "cat_ids = coco.getCatIds(catNms=['person'])\n",
        "img_ids = coco.getImgIds(catIds=cat_ids)\n",
        "\n",
        "# Print dataset size\n",
        "print(f\"Total images with person keypoints: {len(img_ids)}\")\n"
      ],
      "metadata": {
        "colab": {
          "base_uri": "https://localhost:8080/"
        },
        "id": "WuKUr-o6sfHF",
        "outputId": "f0d84f8b-8b2d-49b9-bd1e-4b11f6e9db5e"
      },
      "execution_count": 66,
      "outputs": [
        {
          "output_type": "stream",
          "name": "stdout",
          "text": [
            "loading annotations into memory...\n",
            "Done (t=8.42s)\n",
            "creating index...\n",
            "index created!\n",
            "Total images with person keypoints: 64115\n"
          ]
        }
      ]
    },
    {
      "cell_type": "code",
      "source": [
        "import torch\n",
        "import torch.nn as nn\n",
        "import torch.optim as optim\n",
        "from torch.utils.data import Dataset, DataLoader\n",
        "import numpy as np\n",
        "\n",
        "# Custom COCO dataset class with padding\n",
        "class COCODataset(Dataset):\n",
        "    def __init__(self, coco, max_keypoints=51):  # 17 keypoints * 3 (x, y, visibility)\n",
        "        self.coco = coco\n",
        "        self.image_ids = list(self.coco.imgs.keys())\n",
        "        self.max_keypoints = max_keypoints  # Fix the size\n",
        "\n",
        "    def __len__(self):\n",
        "        return len(self.image_ids)\n",
        "\n",
        "    def __getitem__(self, idx):\n",
        "        img_id = self.image_ids[idx]\n",
        "        ann_ids = self.coco.getAnnIds(imgIds=img_id, iscrowd=False)\n",
        "        annotations = self.coco.loadAnns(ann_ids)\n",
        "\n",
        "        keypoints = []\n",
        "        for ann in annotations:\n",
        "            if 'keypoints' in ann:\n",
        "                keypoints.append(ann['keypoints'])\n",
        "\n",
        "        if len(keypoints) == 0:\n",
        "            keypoints = np.zeros((self.max_keypoints,))  # No keypoints\n",
        "\n",
        "        keypoints = np.array(keypoints).flatten()\n",
        "\n",
        "        # Ensure consistent size (pad or truncate)\n",
        "        if len(keypoints) < self.max_keypoints:\n",
        "            keypoints = np.pad(keypoints, (0, self.max_keypoints - len(keypoints)), mode='constant')\n",
        "        else:\n",
        "            keypoints = keypoints[:self.max_keypoints]\n",
        "\n",
        "        return torch.tensor(keypoints, dtype=torch.float32)\n",
        "\n",
        "# Load dataset\n",
        "dataset = COCODataset(coco)\n",
        "dataloader = DataLoader(dataset, batch_size=32, shuffle=True)\n",
        "\n",
        "# Define a simple keypoint regression model\n",
        "class KeypointNet(nn.Module):\n",
        "    def __init__(self, input_size=51):\n",
        "        super(KeypointNet, self).__init__()\n",
        "        self.fc1 = nn.Linear(input_size, 128)\n",
        "        self.fc2 = nn.Linear(128, 64)\n",
        "        self.fc3 = nn.Linear(64, input_size)  # Predict keypoints\n",
        "\n",
        "    def forward(self, x):\n",
        "        x = torch.relu(self.fc1(x))\n",
        "        x = torch.relu(self.fc2(x))\n",
        "        x = self.fc3(x)\n",
        "        return x\n",
        "\n",
        "# Initialize model, loss function, and optimizer\n",
        "model = KeypointNet(input_size=51)  # Match dataset size\n",
        "criterion = nn.MSELoss()\n",
        "optimizer = optim.Adam(model.parameters(), lr=0.001)\n",
        "\n",
        "# Training loop\n",
        "num_epochs = 50\n",
        "for epoch in range(num_epochs):\n",
        "    total_loss = 0\n",
        "    for keypoints in dataloader:\n",
        "        optimizer.zero_grad()\n",
        "        outputs = model(keypoints)\n",
        "        loss = criterion(outputs, keypoints)\n",
        "        loss.backward()\n",
        "        optimizer.step()\n",
        "        total_loss += loss.item()\n",
        "\n",
        "    print(f\"Epoch {epoch+1}, Loss: {total_loss/len(dataloader)}\")\n",
        "\n",
        "print(\"Training complete!\")\n"
      ],
      "metadata": {
        "colab": {
          "base_uri": "https://localhost:8080/"
        },
        "id": "_NCD28tvyhhf",
        "outputId": "7027a697-0cb2-4cf9-f80d-53ec45e92b45"
      },
      "execution_count": 75,
      "outputs": [
        {
          "output_type": "stream",
          "name": "stdout",
          "text": [
            "Epoch 1, Loss: 313.7650623944504\n",
            "Epoch 2, Loss: 21.079754855718555\n",
            "Epoch 3, Loss: 14.327159805929206\n",
            "Epoch 4, Loss: 12.050139219382984\n",
            "Epoch 5, Loss: 13.164273676096443\n",
            "Epoch 6, Loss: 10.295089120457938\n",
            "Epoch 7, Loss: 11.727820601589395\n",
            "Epoch 8, Loss: 8.760311600918186\n",
            "Epoch 9, Loss: 8.424102212501147\n",
            "Epoch 10, Loss: 9.008080368416678\n",
            "Epoch 11, Loss: 12.15439369018606\n",
            "Epoch 12, Loss: 7.108030310201426\n",
            "Epoch 13, Loss: 7.097398653767513\n",
            "Epoch 14, Loss: 6.443824491268369\n",
            "Epoch 15, Loss: 6.796915436487505\n",
            "Epoch 16, Loss: 7.04151498021501\n",
            "Epoch 17, Loss: 6.421876794838215\n",
            "Epoch 18, Loss: 6.065641369365311\n",
            "Epoch 19, Loss: 5.5240538784675355\n",
            "Epoch 20, Loss: 5.737382961272355\n",
            "Epoch 21, Loss: 5.9028812192575915\n",
            "Epoch 22, Loss: 4.541536292434545\n",
            "Epoch 23, Loss: 5.089805304697793\n",
            "Epoch 24, Loss: 5.718228259496441\n",
            "Epoch 25, Loss: 5.092145152456508\n",
            "Epoch 26, Loss: 4.708121847374426\n",
            "Epoch 27, Loss: 4.536306716068422\n",
            "Epoch 28, Loss: 4.020255032877423\n",
            "Epoch 29, Loss: 4.573308608662221\n",
            "Epoch 30, Loss: 4.563462240061697\n",
            "Epoch 31, Loss: 4.082937408116724\n",
            "Epoch 32, Loss: 4.043425350651762\n",
            "Epoch 33, Loss: 4.183814032886491\n",
            "Epoch 34, Loss: 4.260002051676355\n",
            "Epoch 35, Loss: 3.490008600251656\n",
            "Epoch 36, Loss: 3.866629233630664\n",
            "Epoch 37, Loss: 3.6025843804418507\n",
            "Epoch 38, Loss: 3.807948609256312\n",
            "Epoch 39, Loss: 3.9352792780045274\n",
            "Epoch 40, Loss: 4.160094814632498\n",
            "Epoch 41, Loss: 3.1359363210936446\n",
            "Epoch 42, Loss: 3.7304308334895007\n",
            "Epoch 43, Loss: 3.7976532676734567\n",
            "Epoch 44, Loss: 3.031220226202232\n",
            "Epoch 45, Loss: 3.5214282192142714\n",
            "Epoch 46, Loss: 3.209497996539176\n",
            "Epoch 47, Loss: 3.5211529485238446\n",
            "Epoch 48, Loss: 3.1139425925702895\n",
            "Epoch 49, Loss: 3.1097875509450397\n",
            "Epoch 50, Loss: 3.9553355400767685\n",
            "Training complete!\n"
          ]
        }
      ]
    },
    {
      "cell_type": "code",
      "source": [
        "# Load COCO validation annotations\n",
        "coco_val = COCO(\"annotations/person_keypoints_val2017.json\")"
      ],
      "metadata": {
        "colab": {
          "base_uri": "https://localhost:8080/"
        },
        "id": "yTpa-Mex1_UX",
        "outputId": "bf24f61d-c625-45c0-82df-54ffe5cffc99"
      },
      "execution_count": 77,
      "outputs": [
        {
          "output_type": "stream",
          "name": "stdout",
          "text": [
            "loading annotations into memory...\n",
            "Done (t=0.38s)\n",
            "creating index...\n",
            "index created!\n"
          ]
        }
      ]
    },
    {
      "cell_type": "code",
      "source": [
        "from torch.utils.data import DataLoader\n",
        "\n",
        "# Load validation dataset (assuming your dataset class supports COCO annotations)\n",
        "val_dataset = COCODataset(coco_val)  # Ensure your dataset class can handle COCO validation data\n",
        "\n",
        "# Create validation DataLoader\n",
        "val_dataloader = DataLoader(val_dataset, batch_size=8, shuffle=False)"
      ],
      "metadata": {
        "id": "vWMok_jA8R2z"
      },
      "execution_count": 78,
      "outputs": []
    },
    {
      "cell_type": "code",
      "source": [
        "def validate_model(model, dataloader, criterion):\n",
        "    model.eval()\n",
        "    total_loss = 0\n",
        "    with torch.no_grad():\n",
        "        for batch in dataloader:\n",
        "            keypoints, labels = batch[:2]  # Adjust based on output structure\n",
        "            outputs = model(keypoints)\n",
        "            loss = criterion(outputs, labels)\n",
        "            total_loss += loss.item()\n",
        "\n",
        "    avg_loss = total_loss / len(dataloader)\n",
        "    return avg_loss"
      ],
      "metadata": {
        "id": "Zqh1HdmD87TJ"
      },
      "execution_count": 80,
      "outputs": []
    },
    {
      "cell_type": "code",
      "source": [
        "# Define loss function (same as training)\n",
        "criterion = torch.nn.MSELoss()\n",
        "\n",
        "# Validate the model\n",
        "val_loss = validate_model(model, val_dataloader, criterion)\n",
        "print(f\"Validation Loss: {val_loss:.4f}\")"
      ],
      "metadata": {
        "colab": {
          "base_uri": "https://localhost:8080/"
        },
        "id": "JjNwgwAs898k",
        "outputId": "d2aebb13-0db7-4e63-9bba-17086ce8edd5"
      },
      "execution_count": 81,
      "outputs": [
        {
          "output_type": "stream",
          "name": "stdout",
          "text": [
            "Validation Loss: 22812.5562\n"
          ]
        }
      ]
    },
    {
      "cell_type": "code",
      "source": [
        "def mean_absolute_error(preds, targets):\n",
        "    return torch.mean(torch.abs(preds - targets))\n",
        "\n",
        "mae = 0\n",
        "with torch.no_grad():\n",
        "    for batch in val_dataloader:\n",
        "        keypoints = batch[0]  # Adjust based on your dataset\n",
        "        labels = batch[1]\n",
        "\n",
        "        preds = model(keypoints)\n",
        "        mae += mean_absolute_error(preds, labels).item()\n",
        "\n",
        "mae /= len(val_dataloader)\n",
        "print(f\"Mean Absolute Error (MAE): {mae:.4f}\")"
      ],
      "metadata": {
        "colab": {
          "base_uri": "https://localhost:8080/"
        },
        "id": "dr1M0Rga9XZJ",
        "outputId": "70c1925c-c0a7-45be-8454-b2823d2f5471"
      },
      "execution_count": 83,
      "outputs": [
        {
          "output_type": "stream",
          "name": "stdout",
          "text": [
            "Mean Absolute Error (MAE): 74.2512\n"
          ]
        }
      ]
    },
    {
      "cell_type": "code",
      "source": [
        "import torch\n",
        "import torch.nn as nn\n",
        "import torch.optim as optim\n",
        "from torch.utils.data import DataLoader\n",
        "from torchvision import transforms\n",
        "from pycocotools.coco import COCO\n",
        "\n",
        "# Define COCO Keypoints Dataset\n",
        "class COCODataset(torch.utils.data.Dataset):\n",
        "    def __init__(self, annotation_file, transform=None):\n",
        "        self.coco = COCO(annotation_file)\n",
        "        self.img_ids = list(self.coco.imgs.keys())\n",
        "        self.transform = transform\n",
        "\n",
        "    def __getitem__(self, index):\n",
        "        img_id = self.img_ids[index]\n",
        "        ann_ids = self.coco.getAnnIds(imgIds=img_id)\n",
        "        annotations = self.coco.loadAnns(ann_ids)\n",
        "\n",
        "        keypoints = []\n",
        "        for ann in annotations:\n",
        "            if 'keypoints' in ann:\n",
        "                keypoints.append(torch.tensor(ann['keypoints']).view(-1, 3))  # Reshape to (num_keypoints, 3)\n",
        "\n",
        "        if not keypoints:\n",
        "            return None  # Skip if no keypoints\n",
        "\n",
        "        keypoints = torch.stack(keypoints)  # Stack all keypoints\n",
        "\n",
        "        if self.transform:\n",
        "            keypoints = self.transform(keypoints)\n",
        "\n",
        "        return keypoints.float()\n",
        "\n",
        "    def __len__(self):\n",
        "        return len(self.img_ids)\n",
        "\n",
        "# Data transformation (Normalization)\n",
        "transform = transforms.Compose([\n",
        "    transforms.Lambda(lambda x: x / 255.0)  # Normalize keypoints\n",
        "])\n",
        "\n",
        "# Load datasets\n",
        "train_dataset = COCODataset(\"annotations/person_keypoints_train2017.json\", transform=transform)\n",
        "val_dataset = COCODataset(\"annotations/person_keypoints_val2017.json\", transform=transform)\n",
        "\n",
        "# Create DataLoaders\n",
        "train_dataloader = DataLoader(train_dataset, batch_size=16, shuffle=True, collate_fn=lambda x: x)\n",
        "val_dataloader = DataLoader(val_dataset, batch_size=16, shuffle=False, collate_fn=lambda x: x)\n",
        "\n",
        "# Define the model\n",
        "class KeypointModel(nn.Module):\n",
        "    def __init__(self):\n",
        "        super(KeypointModel, self).__init__()\n",
        "        self.fc1 = nn.Linear(51, 128)  # 17 keypoints * 3 (x, y, visibility)\n",
        "        self.fc2 = nn.Linear(128, 64)\n",
        "        self.fc3 = nn.Linear(64, 51)  # Output same shape as input\n",
        "\n",
        "    def forward(self, x):\n",
        "        x = torch.relu(self.fc1(x))\n",
        "        x = torch.relu(self.fc2(x))\n",
        "        x = self.fc3(x)\n",
        "        return x\n",
        "\n",
        "# Initialize model, loss, and optimizer\n",
        "model = KeypointModel()\n",
        "criterion = nn.MSELoss()  # Mean Squared Error Loss\n",
        "optimizer = optim.Adam(model.parameters(), lr=0.0001)  # Lower learning rate"
      ],
      "metadata": {
        "colab": {
          "base_uri": "https://localhost:8080/"
        },
        "id": "aSHgoWSk9ZgI",
        "outputId": "1b108bea-df46-4855-be09-91a8d0e8ce11"
      },
      "execution_count": 85,
      "outputs": [
        {
          "output_type": "stream",
          "name": "stdout",
          "text": [
            "loading annotations into memory...\n",
            "Done (t=11.56s)\n",
            "creating index...\n",
            "index created!\n",
            "loading annotations into memory...\n",
            "Done (t=0.27s)\n",
            "creating index...\n",
            "index created!\n"
          ]
        }
      ]
    },
    {
      "cell_type": "code",
      "source": [
        "# Training loop with batch filtering\n",
        "num_epochs = 20\n",
        "for epoch in range(num_epochs):\n",
        "    model.train()\n",
        "    total_loss = 0\n",
        "\n",
        "    for batch in train_dataloader:\n",
        "        batch = [kp for kp in batch if kp is not None]  # Remove None values\n",
        "        if not batch: continue  # Skip if batch is empty\n",
        "\n",
        "        keypoints = torch.cat(batch).view(-1, 51)  # Flatten\n",
        "        optimizer.zero_grad()\n",
        "\n",
        "        outputs = model(keypoints)\n",
        "        loss = criterion(outputs, keypoints)\n",
        "        loss.backward()\n",
        "        optimizer.step()\n",
        "\n",
        "        total_loss += loss.item()\n",
        "\n",
        "    print(f\"Epoch {epoch+1}, Loss: {total_loss:.4f}\")\n",
        "\n",
        "print(\"Training complete!\")\n"
      ],
      "metadata": {
        "colab": {
          "base_uri": "https://localhost:8080/"
        },
        "id": "ry5AyjkF-Wzw",
        "outputId": "55e5c474-fd03-4050-c635-4a709d82cc51"
      },
      "execution_count": 89,
      "outputs": [
        {
          "output_type": "stream",
          "name": "stdout",
          "text": [
            "Epoch 1, Loss: 0.0458\n",
            "Epoch 2, Loss: 0.0492\n",
            "Epoch 3, Loss: 0.0513\n",
            "Epoch 4, Loss: 0.0440\n",
            "Epoch 5, Loss: 0.0469\n",
            "Epoch 6, Loss: 0.0421\n",
            "Epoch 7, Loss: 0.0479\n",
            "Epoch 8, Loss: 0.0419\n",
            "Epoch 9, Loss: 0.0421\n",
            "Epoch 10, Loss: 0.0481\n",
            "Epoch 11, Loss: 0.0475\n",
            "Epoch 12, Loss: 0.0365\n",
            "Epoch 13, Loss: 0.0461\n",
            "Epoch 14, Loss: 0.0418\n",
            "Epoch 15, Loss: 0.0402\n",
            "Epoch 16, Loss: 0.0449\n",
            "Epoch 17, Loss: 0.0435\n",
            "Epoch 18, Loss: 0.0381\n",
            "Epoch 19, Loss: 0.0346\n",
            "Epoch 20, Loss: 0.0405\n",
            "Training complete!\n"
          ]
        }
      ]
    },
    {
      "cell_type": "code",
      "source": [
        "def validate_model(model, dataloader, criterion):\n",
        "    model.eval()  # Set model to evaluation mode\n",
        "    total_loss = 0\n",
        "\n",
        "    with torch.no_grad():  # No gradient updates during validation\n",
        "        for batch in dataloader:\n",
        "            batch = [kp for kp in batch if kp is not None]  # Remove None values\n",
        "            if not batch: continue  # Skip empty batches\n",
        "\n",
        "            keypoints = torch.cat(batch).view(-1, 51)  # Flatten\n",
        "            outputs = model(keypoints)\n",
        "            loss = criterion(outputs, keypoints)\n",
        "\n",
        "            total_loss += loss.item()\n",
        "\n",
        "    return total_loss / len(dataloader)\n",
        "\n",
        "val_loss = validate_model(model, val_dataloader, criterion)\n",
        "print(f\"Validation Loss: {val_loss:.4f}\")"
      ],
      "metadata": {
        "colab": {
          "base_uri": "https://localhost:8080/"
        },
        "id": "UD_WSmCsHX_u",
        "outputId": "f6a03d42-f2ac-47a1-eb75-4d1e90f38969"
      },
      "execution_count": 93,
      "outputs": [
        {
          "output_type": "stream",
          "name": "stdout",
          "text": [
            "Validation Loss: 0.0000\n"
          ]
        }
      ]
    },
    {
      "cell_type": "code",
      "source": [
        "def mean_absolute_error(preds, targets):\n",
        "    return torch.mean(torch.abs(preds - targets))\n",
        "\n",
        "mae = 0\n",
        "with torch.no_grad():\n",
        "    for batch in val_dataloader:\n",
        "        batch = [kp for kp in batch if kp is not None]  # Remove None values\n",
        "        if not batch: continue  # Skip empty batches\n",
        "\n",
        "        keypoints = torch.cat(batch).view(-1, 51)  # Flatten\n",
        "        preds = model(keypoints)\n",
        "        mae += mean_absolute_error(preds, keypoints).item()\n",
        "\n",
        "mae /= len(val_dataloader)\n",
        "print(f\"Mean Absolute Error (MAE): {mae:.4f}\")\n"
      ],
      "metadata": {
        "colab": {
          "base_uri": "https://localhost:8080/"
        },
        "id": "QoHxs7WWHpTo",
        "outputId": "9392ad8d-1967-4c8a-924e-7e1cdba1e1e8"
      },
      "execution_count": 94,
      "outputs": [
        {
          "output_type": "stream",
          "name": "stdout",
          "text": [
            "Mean Absolute Error (MAE): 0.0005\n"
          ]
        }
      ]
    },
    {
      "cell_type": "code",
      "source": [
        "import torch\n",
        "import matplotlib.pyplot as plt\n",
        "\n",
        "def plot_keypoints(image, keypoints, ax):\n",
        "    \"\"\"Plot keypoints on an image.\"\"\"\n",
        "    if image.dim() == 2:\n",
        "        image = image.unsqueeze(0)\n",
        "    elif image.dim() == 4:\n",
        "        image = image[0]\n",
        "\n",
        "    if image.shape[0] == 1:\n",
        "        image = image.repeat(3, 1, 1)\n",
        "\n",
        "    image = image.permute(1, 2, 0)\n",
        "\n",
        "    image = torch.clamp(image, 0, 1)  # 🔥 Fix: Clip pixel values to [0,1]\n",
        "\n",
        "    ax.imshow(image.cpu().numpy())\n",
        "\n",
        "    if keypoints.numel() % 2 != 0:\n",
        "        print(f\"Skipping batch due to invalid keypoints shape: {keypoints.shape}\")\n",
        "        return\n",
        "\n",
        "    keypoints = keypoints.view(-1, 2).cpu().numpy()\n",
        "    for x, y in keypoints:\n",
        "        ax.scatter(x, y, c='red', s=10)\n",
        "\n",
        "def test_model(model, dataloader, num_samples=5):\n",
        "    \"\"\"Test model and visualize predictions.\"\"\"\n",
        "    model.eval()\n",
        "    fig, axes = plt.subplots(1, num_samples, figsize=(15, 5))\n",
        "    sample_count = 0\n",
        "\n",
        "    with torch.no_grad():\n",
        "        for batch in dataloader:\n",
        "            if sample_count >= num_samples:\n",
        "                break\n",
        "\n",
        "            if batch is None or len(batch) < 2:\n",
        "                print(\"Skipping empty batch\")\n",
        "                continue\n",
        "\n",
        "            images, keypoints = batch[:2]\n",
        "\n",
        "            if images is None or keypoints is None:\n",
        "                print(\"Skipping batch with missing images or keypoints\")\n",
        "                continue\n",
        "\n",
        "            if keypoints.numel() % 2 != 0:\n",
        "                print(f\"Skipping batch due to invalid keypoints shape: {keypoints.shape}\")\n",
        "                continue\n",
        "\n",
        "            keypoints = keypoints.view(keypoints.shape[0], -1)\n",
        "\n",
        "            preds = model(keypoints)\n",
        "\n",
        "            if images[0] is None:\n",
        "                print(\"Skipping batch with missing image\")\n",
        "                continue\n",
        "\n",
        "            plot_keypoints(images[0], preds, axes[sample_count])\n",
        "            axes[sample_count].axis(\"off\")\n",
        "\n",
        "            sample_count += 1\n",
        "\n",
        "    plt.show()\n",
        "\n",
        "# Run testing\n",
        "test_model(model, test_dataloader)"
      ],
      "metadata": {
        "colab": {
          "base_uri": "https://localhost:8080/",
          "height": 1000
        },
        "id": "3vpyy9JtHsMY",
        "outputId": "66b6aa22-2848-4368-a111-3526b6034151"
      },
      "execution_count": 104,
      "outputs": [
        {
          "output_type": "stream",
          "name": "stdout",
          "text": [
            "Skipping batch with missing images or keypoints\n",
            "Skipping batch with missing images or keypoints\n",
            "Skipping batch with missing images or keypoints\n",
            "Skipping batch with missing images or keypoints\n",
            "Skipping batch due to invalid keypoints shape: torch.Size([1, 17, 3])\n",
            "Skipping batch due to invalid keypoints shape: torch.Size([5, 17, 3])\n",
            "Skipping batch with missing images or keypoints\n",
            "Skipping batch with missing images or keypoints\n",
            "Skipping batch due to invalid keypoints shape: torch.Size([1, 17, 3])\n",
            "Skipping batch with missing images or keypoints\n",
            "Skipping batch with missing images or keypoints\n",
            "Skipping batch due to invalid keypoints shape: torch.Size([1, 17, 3])\n",
            "Skipping batch with missing images or keypoints\n",
            "Skipping batch with missing images or keypoints\n",
            "Skipping batch with missing images or keypoints\n",
            "Skipping batch with missing images or keypoints\n",
            "Skipping batch with missing images or keypoints\n",
            "Skipping batch with missing images or keypoints\n",
            "Skipping batch with missing images or keypoints\n",
            "Skipping batch with missing images or keypoints\n",
            "Skipping batch with missing images or keypoints\n",
            "Skipping batch due to invalid keypoints shape: torch.Size([1, 17, 3])\n",
            "Skipping batch with missing images or keypoints\n",
            "Skipping batch with missing images or keypoints\n",
            "Skipping batch with missing images or keypoints\n",
            "Skipping batch with missing images or keypoints\n",
            "Skipping batch with missing images or keypoints\n",
            "Skipping batch with missing images or keypoints\n",
            "Skipping batch due to invalid keypoints shape: torch.Size([3, 17, 3])\n",
            "Skipping batch with missing images or keypoints\n",
            "Skipping batch with missing images or keypoints\n",
            "Skipping batch with missing images or keypoints\n",
            "Skipping batch with missing images or keypoints\n",
            "Skipping batch with missing images or keypoints\n",
            "Skipping batch due to invalid keypoints shape: torch.Size([11, 17, 3])\n",
            "Skipping batch with missing images or keypoints\n",
            "Skipping batch with missing images or keypoints\n",
            "Skipping batch with missing images or keypoints\n",
            "Skipping batch with missing images or keypoints\n",
            "Skipping batch with missing images or keypoints\n",
            "Skipping batch with missing images or keypoints\n",
            "Skipping batch due to invalid keypoints shape: torch.Size([1, 17, 3])\n",
            "Skipping batch due to invalid keypoints shape: torch.Size([1, 17, 3])\n",
            "Skipping batch with missing images or keypoints\n",
            "Skipping batch with missing images or keypoints\n",
            "Skipping batch with missing images or keypoints\n",
            "Skipping batch with missing images or keypoints\n",
            "Skipping batch with missing images or keypoints\n",
            "Skipping batch with missing images or keypoints\n",
            "Skipping batch with missing images or keypoints\n",
            "Skipping batch with missing images or keypoints\n",
            "Skipping batch with missing images or keypoints\n",
            "Skipping batch due to invalid keypoints shape: torch.Size([9, 17, 3])\n"
          ]
        },
        {
          "output_type": "display_data",
          "data": {
            "text/plain": [
              "<Figure size 1500x500 with 5 Axes>"
            ],
            "image/png": "[encoded data removed]"
          },
          "metadata": {}
        }
      ]
    },
    {
      "cell_type": "code",
      "source": [
        "pip install onnx"
      ],
      "metadata": {
        "colab": {
          "base_uri": "https://localhost:8080/"
        },
        "id": "pPLcF4ajOmgN",
        "outputId": "b748f2c5-f85c-44bb-81a8-6fbe1d63286a"
      },
      "execution_count": 106,
      "outputs": [
        {
          "output_type": "stream",
          "name": "stdout",
          "text": [
            "Collecting onnx\n",
            "  Downloading onnx-1.17.0-cp311-cp311-manylinux_2_17_x86_64.manylinux2014_x86_64.whl.metadata (16 kB)\n",
            "Requirement already satisfied: numpy>=1.20 in /usr/local/lib/python3.11/dist-packages (from onnx) (1.26.4)\n",
            "Requirement already satisfied: protobuf>=3.20.2 in /usr/local/lib/python3.11/dist-packages (from onnx) (4.25.6)\n",
            "Downloading onnx-1.17.0-cp311-cp311-manylinux_2_17_x86_64.manylinux2014_x86_64.whl (16.0 MB)\n",
            "\u001b[2K   \u001b[90m━━━━━━━━━━━━━━━━━━━━━━━━━━━━━━━━━━━━━━━━\u001b[0m \u001b[32m16.0/16.0 MB\u001b[0m \u001b[31m64.5 MB/s\u001b[0m eta \u001b[36m0:00:00\u001b[0m\n",
            "\u001b[?25hInstalling collected packages: onnx\n",
            "Successfully installed onnx-1.17.0\n"
          ]
        }
      ]
    },
    {
      "cell_type": "code",
      "source": [
        "import torch\n",
        "\n",
        "example_input = torch.randn(1, 51)\n",
        "\n",
        "# Convert model to ONNX\n",
        "torch.onnx.export(\n",
        "    model,\n",
        "    example_input,\n",
        "    \"model.onnx\",\n",
        "    export_params=True,\n",
        "    opset_version=11,\n",
        "    do_constant_folding=True,\n",
        "    input_names=[\"input\"],\n",
        "    output_names=[\"output\"],\n",
        "    dynamic_axes={\"input\": {0: \"batch_size\"}, \"output\": {0: \"batch_size\"}}\n",
        ")\n",
        "\n",
        "print(\"Model has been converted to ONNX and saved as 'model.onnx'.\")\n"
      ],
      "metadata": {
        "colab": {
          "base_uri": "https://localhost:8080/"
        },
        "id": "E6_tYlswH7up",
        "outputId": "a4bf18ff-2196-48b9-d5ec-a3e54c6e15ee"
      },
      "execution_count": 107,
      "outputs": [
        {
          "output_type": "stream",
          "name": "stdout",
          "text": [
            "Model has been converted to ONNX and saved as 'model.onnx'.\n"
          ]
        }
      ]
    },
    {
      "cell_type": "code",
      "source": [
        "import onnx\n",
        "\n",
        "onnx_model = onnx.load(\"model.onnx\")\n",
        "onnx.checker.check_model(onnx_model)\n",
        "print(\"ONNX model is valid!\")"
      ],
      "metadata": {
        "colab": {
          "base_uri": "https://localhost:8080/"
        },
        "id": "S8c3XB67OyY0",
        "outputId": "aa80b6b1-2ffd-4136-db17-210e08114855"
      },
      "execution_count": 108,
      "outputs": [
        {
          "output_type": "stream",
          "name": "stdout",
          "text": [
            "ONNX model is valid!\n"
          ]
        }
      ]
    },
    {
      "cell_type": "code",
      "source": [
        "from google.colab import files\n",
        "files.download(\"model.onnx\")"
      ],
      "metadata": {
        "colab": {
          "base_uri": "https://localhost:8080/",
          "height": 17
        },
        "id": "Pu4mwhfpOzQD",
        "outputId": "74a2a1da-f7e9-4aa7-f13e-55e65c58628d"
      },
      "execution_count": 109,
      "outputs": [
        {
          "output_type": "display_data",
          "data": {
            "text/plain": [
              "<IPython.core.display.Javascript object>"
            ],
            "application/javascript": [
              "\n",
              "    async function download(id, filename, size) {\n",
              "      if (!google.colab.kernel.accessAllowed) {\n",
              "        return;\n",
              "      }\n",
              "      const div = document.createElement('div');\n",
              "      const label = document.createElement('label');\n",
              "      label.textContent = `Downloading \"${filename}\": `;\n",
              "      div.appendChild(label);\n",
              "      const progress = document.createElement('progress');\n",
              "      progress.max = size;\n",
              "      div.appendChild(progress);\n",
              "      document.body.appendChild(div);\n",
              "\n",
              "      const buffers = [];\n",
              "      let downloaded = 0;\n",
              "\n",
              "      const channel = await google.colab.kernel.comms.open(id);\n",
              "      // Send a message to notify the kernel that we're ready.\n",
              "      channel.send({})\n",
              "\n",
              "      for await (const message of channel.messages) {\n",
              "        // Send a message to notify the kernel that we're ready.\n",
              "        channel.send({})\n",
              "        if (message.buffers) {\n",
              "          for (const buffer of message.buffers) {\n",
              "            buffers.push(buffer);\n",
              "            downloaded += buffer.byteLength;\n",
              "            progress.value = downloaded;\n",
              "          }\n",
              "        }\n",
              "      }\n",
              "      const blob = new Blob(buffers, {type: 'application/binary'});\n",
              "      const a = document.createElement('a');\n",
              "      a.href = window.URL.createObjectURL(blob);\n",
              "      a.download = filename;\n",
              "      div.appendChild(a);\n",
              "      a.click();\n",
              "      div.remove();\n",
              "    }\n",
              "  "
            ]
          },
          "metadata": {}
        },
        {
          "output_type": "display_data",
          "data": {
            "text/plain": [
              "<IPython.core.display.Javascript object>"
            ],
            "application/javascript": [
              "download(\"download_8d364028-816d-43ef-b98f-0608d83067cc\", \"model.onnx\", 73618)"
            ]
          },
          "metadata": {}
        }
      ]
    },
    {
      "cell_type": "code",
      "source": [
        "pip install onnxruntime"
      ],
      "metadata": {
        "colab": {
          "base_uri": "https://localhost:8080/"
        },
        "id": "1aI28zWAO8qh",
        "outputId": "7268be78-0d39-4bfb-9ded-923727474ef1"
      },
      "execution_count": 110,
      "outputs": [
        {
          "output_type": "stream",
          "name": "stdout",
          "text": [
            "Collecting onnxruntime\n",
            "  Downloading onnxruntime-1.20.1-cp311-cp311-manylinux_2_27_x86_64.manylinux_2_28_x86_64.whl.metadata (4.5 kB)\n",
            "Collecting coloredlogs (from onnxruntime)\n",
            "  Downloading coloredlogs-15.0.1-py2.py3-none-any.whl.metadata (12 kB)\n",
            "Requirement already satisfied: flatbuffers in /usr/local/lib/python3.11/dist-packages (from onnxruntime) (25.2.10)\n",
            "Requirement already satisfied: numpy>=1.21.6 in /usr/local/lib/python3.11/dist-packages (from onnxruntime) (1.26.4)\n",
            "Requirement already satisfied: packaging in /usr/local/lib/python3.11/dist-packages (from onnxruntime) (24.2)\n",
            "Requirement already satisfied: protobuf in /usr/local/lib/python3.11/dist-packages (from onnxruntime) (4.25.6)\n",
            "Requirement already satisfied: sympy in /usr/local/lib/python3.11/dist-packages (from onnxruntime) (1.13.1)\n",
            "Collecting humanfriendly>=9.1 (from coloredlogs->onnxruntime)\n",
            "  Downloading humanfriendly-10.0-py2.py3-none-any.whl.metadata (9.2 kB)\n",
            "Requirement already satisfied: mpmath<1.4,>=1.1.0 in /usr/local/lib/python3.11/dist-packages (from sympy->onnxruntime) (1.3.0)\n",
            "Downloading onnxruntime-1.20.1-cp311-cp311-manylinux_2_27_x86_64.manylinux_2_28_x86_64.whl (13.3 MB)\n",
            "\u001b[2K   \u001b[90m━━━━━━━━━━━━━━━━━━━━━━━━━━━━━━━━━━━━━━━━\u001b[0m \u001b[32m13.3/13.3 MB\u001b[0m \u001b[31m70.0 MB/s\u001b[0m eta \u001b[36m0:00:00\u001b[0m\n",
            "\u001b[?25hDownloading coloredlogs-15.0.1-py2.py3-none-any.whl (46 kB)\n",
            "\u001b[2K   \u001b[90m━━━━━━━━━━━━━━━━━━━━━━━━━━━━━━━━━━━━━━━━\u001b[0m \u001b[32m46.0/46.0 kB\u001b[0m \u001b[31m4.3 MB/s\u001b[0m eta \u001b[36m0:00:00\u001b[0m\n",
            "\u001b[?25hDownloading humanfriendly-10.0-py2.py3-none-any.whl (86 kB)\n",
            "\u001b[2K   \u001b[90m━━━━━━━━━━━━━━━━━━━━━━━━━━━━━━━━━━━━━━━━\u001b[0m \u001b[32m86.8/86.8 kB\u001b[0m \u001b[31m8.3 MB/s\u001b[0m eta \u001b[36m0:00:00\u001b[0m\n",
            "\u001b[?25hInstalling collected packages: humanfriendly, coloredlogs, onnxruntime\n",
            "Successfully installed coloredlogs-15.0.1 humanfriendly-10.0 onnxruntime-1.20.1\n"
          ]
        }
      ]
    },
    {
      "cell_type": "code",
      "source": [
        "import onnxruntime as ort\n",
        "import numpy as np\n",
        "import torch\n",
        "\n",
        "# Load ONNX model\n",
        "ort_session = ort.InferenceSession(\"model.onnx\")\n",
        "\n",
        "# Prepare input (example input size: [1, 51])\n",
        "input_data = torch.randn(1, 51).numpy().astype(np.float32)\n",
        "\n",
        "# Run inference\n",
        "outputs = ort_session.run(None, {\"input\": input_data})\n",
        "print(\"ONNX model output:\", outputs)"
      ],
      "metadata": {
        "colab": {
          "base_uri": "https://localhost:8080/"
        },
        "id": "utasURMhPBN_",
        "outputId": "204f8651-8222-4aa2-d48f-5f3e9645f7d8"
      },
      "execution_count": 111,
      "outputs": [
        {
          "output_type": "stream",
          "name": "stdout",
          "text": [
            "ONNX model output: [array([[ 0.6861745 ,  0.79668844, -0.647079  ,  0.3946628 ,  1.0559177 ,\n",
            "        -0.39261967,  0.60481155, -0.27558264, -0.7348731 ,  1.7240148 ,\n",
            "        -0.2847821 ,  0.00555047,  0.7176297 ,  0.03418076, -0.19402237,\n",
            "         0.28676218, -0.31372026, -0.10253859,  0.43253976, -0.09764801,\n",
            "        -0.23150596,  1.0297122 ,  1.1737008 ,  0.11942338, -1.5891423 ,\n",
            "         0.53379554, -0.29377756, -0.14529687, -0.18289609,  0.20062056,\n",
            "         0.39441618, -0.5240064 , -0.19453071, -0.0990414 ,  0.5287106 ,\n",
            "         0.22534171, -0.19081399,  1.1077014 ,  0.12594269, -0.53273   ,\n",
            "        -0.0642308 , -0.34860379,  0.25146097,  1.2909805 , -0.25885892,\n",
            "         0.31700924,  0.6018197 , -0.21251695,  1.188483  ,  1.2329522 ,\n",
            "        -0.46131107]], dtype=float32)]\n"
          ]
        }
      ]
    },
    {
      "cell_type": "code",
      "source": [
        "pip install fastapi uvicorn"
      ],
      "metadata": {
        "colab": {
          "base_uri": "https://localhost:8080/"
        },
        "id": "gbd--x0-PF8p",
        "outputId": "048b8e10-8a9b-4359-848b-9f9f976b5105"
      },
      "execution_count": 112,
      "outputs": [
        {
          "output_type": "stream",
          "name": "stdout",
          "text": [
            "Collecting fastapi\n",
            "  Downloading fastapi-0.115.8-py3-none-any.whl.metadata (27 kB)\n",
            "Collecting uvicorn\n",
            "  Downloading uvicorn-0.34.0-py3-none-any.whl.metadata (6.5 kB)\n",
            "Collecting starlette<0.46.0,>=0.40.0 (from fastapi)\n",
            "  Downloading starlette-0.45.3-py3-none-any.whl.metadata (6.3 kB)\n",
            "Requirement already satisfied: pydantic!=1.8,!=1.8.1,!=2.0.0,!=2.0.1,!=2.1.0,<3.0.0,>=1.7.4 in /usr/local/lib/python3.11/dist-packages (from fastapi) (2.10.6)\n",
            "Requirement already satisfied: typing-extensions>=4.8.0 in /usr/local/lib/python3.11/dist-packages (from fastapi) (4.12.2)\n",
            "Requirement already satisfied: click>=7.0 in /usr/local/lib/python3.11/dist-packages (from uvicorn) (8.1.8)\n",
            "Requirement already satisfied: h11>=0.8 in /usr/local/lib/python3.11/dist-packages (from uvicorn) (0.14.0)\n",
            "Requirement already satisfied: annotated-types>=0.6.0 in /usr/local/lib/python3.11/dist-packages (from pydantic!=1.8,!=1.8.1,!=2.0.0,!=2.0.1,!=2.1.0,<3.0.0,>=1.7.4->fastapi) (0.7.0)\n",
            "Requirement already satisfied: pydantic-core==2.27.2 in /usr/local/lib/python3.11/dist-packages (from pydantic!=1.8,!=1.8.1,!=2.0.0,!=2.0.1,!=2.1.0,<3.0.0,>=1.7.4->fastapi) (2.27.2)\n",
            "Requirement already satisfied: anyio<5,>=3.6.2 in /usr/local/lib/python3.11/dist-packages (from starlette<0.46.0,>=0.40.0->fastapi) (3.7.1)\n",
            "Requirement already satisfied: idna>=2.8 in /usr/local/lib/python3.11/dist-packages (from anyio<5,>=3.6.2->starlette<0.46.0,>=0.40.0->fastapi) (3.10)\n",
            "Requirement already satisfied: sniffio>=1.1 in /usr/local/lib/python3.11/dist-packages (from anyio<5,>=3.6.2->starlette<0.46.0,>=0.40.0->fastapi) (1.3.1)\n",
            "Downloading fastapi-0.115.8-py3-none-any.whl (94 kB)\n",
            "\u001b[2K   \u001b[90m━━━━━━━━━━━━━━━━━━━━━━━━━━━━━━━━━━━━━━━━\u001b[0m \u001b[32m94.8/94.8 kB\u001b[0m \u001b[31m4.2 MB/s\u001b[0m eta \u001b[36m0:00:00\u001b[0m\n",
            "\u001b[?25hDownloading uvicorn-0.34.0-py3-none-any.whl (62 kB)\n",
            "\u001b[2K   \u001b[90m━━━━━━━━━━━━━━━━━━━━━━━━━━━━━━━━━━━━━━━━\u001b[0m \u001b[32m62.3/62.3 kB\u001b[0m \u001b[31m5.5 MB/s\u001b[0m eta \u001b[36m0:00:00\u001b[0m\n",
            "\u001b[?25hDownloading starlette-0.45.3-py3-none-any.whl (71 kB)\n",
            "\u001b[2K   \u001b[90m━━━━━━━━━━━━━━━━━━━━━━━━━━━━━━━━━━━━━━━━\u001b[0m \u001b[32m71.5/71.5 kB\u001b[0m \u001b[31m5.8 MB/s\u001b[0m eta \u001b[36m0:00:00\u001b[0m\n",
            "\u001b[?25hInstalling collected packages: uvicorn, starlette, fastapi\n",
            "Successfully installed fastapi-0.115.8 starlette-0.45.3 uvicorn-0.34.0\n"
          ]
        }
      ]
    },
    {
      "cell_type": "code",
      "source": [
        "pip install python-multipart"
      ],
      "metadata": {
        "colab": {
          "base_uri": "https://localhost:8080/"
        },
        "id": "JHHttdSLQV2I",
        "outputId": "c4812376-25ca-4d0a-de4d-f3608cd9be6f"
      },
      "execution_count": 114,
      "outputs": [
        {
          "output_type": "stream",
          "name": "stdout",
          "text": [
            "Collecting python-multipart\n",
            "  Downloading python_multipart-0.0.20-py3-none-any.whl.metadata (1.8 kB)\n",
            "Downloading python_multipart-0.0.20-py3-none-any.whl (24 kB)\n",
            "Installing collected packages: python-multipart\n",
            "Successfully installed python-multipart-0.0.20\n"
          ]
        }
      ]
    },
    {
      "cell_type": "code",
      "source": [
        "!pip install fastapi uvicorn python-multipart pyngrok"
      ],
      "metadata": {
        "colab": {
          "base_uri": "https://localhost:8080/"
        },
        "id": "X__QXMXgQXjj",
        "outputId": "77733a5b-0dd6-4e9e-9971-b17f9fde6b01"
      },
      "execution_count": 118,
      "outputs": [
        {
          "output_type": "stream",
          "name": "stdout",
          "text": [
            "Requirement already satisfied: fastapi in /usr/local/lib/python3.11/dist-packages (0.115.8)\n",
            "Requirement already satisfied: uvicorn in /usr/local/lib/python3.11/dist-packages (0.34.0)\n",
            "Requirement already satisfied: python-multipart in /usr/local/lib/python3.11/dist-packages (0.0.20)\n",
            "Collecting pyngrok\n",
            "  Downloading pyngrok-7.2.3-py3-none-any.whl.metadata (8.7 kB)\n",
            "Requirement already satisfied: starlette<0.46.0,>=0.40.0 in /usr/local/lib/python3.11/dist-packages (from fastapi) (0.45.3)\n",
            "Requirement already satisfied: pydantic!=1.8,!=1.8.1,!=2.0.0,!=2.0.1,!=2.1.0,<3.0.0,>=1.7.4 in /usr/local/lib/python3.11/dist-packages (from fastapi) (2.10.6)\n",
            "Requirement already satisfied: typing-extensions>=4.8.0 in /usr/local/lib/python3.11/dist-packages (from fastapi) (4.12.2)\n",
            "Requirement already satisfied: click>=7.0 in /usr/local/lib/python3.11/dist-packages (from uvicorn) (8.1.8)\n",
            "Requirement already satisfied: h11>=0.8 in /usr/local/lib/python3.11/dist-packages (from uvicorn) (0.14.0)\n",
            "Requirement already satisfied: PyYAML>=5.1 in /usr/local/lib/python3.11/dist-packages (from pyngrok) (6.0.2)\n",
            "Requirement already satisfied: annotated-types>=0.6.0 in /usr/local/lib/python3.11/dist-packages (from pydantic!=1.8,!=1.8.1,!=2.0.0,!=2.0.1,!=2.1.0,<3.0.0,>=1.7.4->fastapi) (0.7.0)\n",
            "Requirement already satisfied: pydantic-core==2.27.2 in /usr/local/lib/python3.11/dist-packages (from pydantic!=1.8,!=1.8.1,!=2.0.0,!=2.0.1,!=2.1.0,<3.0.0,>=1.7.4->fastapi) (2.27.2)\n",
            "Requirement already satisfied: anyio<5,>=3.6.2 in /usr/local/lib/python3.11/dist-packages (from starlette<0.46.0,>=0.40.0->fastapi) (3.7.1)\n",
            "Requirement already satisfied: idna>=2.8 in /usr/local/lib/python3.11/dist-packages (from anyio<5,>=3.6.2->starlette<0.46.0,>=0.40.0->fastapi) (3.10)\n",
            "Requirement already satisfied: sniffio>=1.1 in /usr/local/lib/python3.11/dist-packages (from anyio<5,>=3.6.2->starlette<0.46.0,>=0.40.0->fastapi) (1.3.1)\n",
            "Downloading pyngrok-7.2.3-py3-none-any.whl (23 kB)\n",
            "Installing collected packages: pyngrok\n",
            "Successfully installed pyngrok-7.2.3\n"
          ]
        }
      ]
    },
    {
      "cell_type": "code",
      "source": [
        "!ngrok authtoken \"YOUR_NGROK_AUTHTOKEN\"  # Don't upload this line with the real token!"
      ],
      "metadata": {
        "colab": {
          "base_uri": "https://localhost:8080/"
        },
        "id": "7n_7xrG6Qvq9",
        "outputId": "c7fd65da-5d64-49fb-def0-bc7224e9073f"
      },
      "execution_count": 120,
      "outputs": [
        {
          "output_type": "stream",
          "name": "stdout",
          "text": [
            "Requirement already satisfied: pyngrok in /usr/local/lib/python3.11/dist-packages (7.2.3)\n",
            "Requirement already satisfied: PyYAML>=5.1 in /usr/local/lib/python3.11/dist-packages (from pyngrok) (6.0.2)\n",
            "Authtoken saved to configuration file: /root/.config/ngrok/ngrok.yml\n"
          ]
        }
      ]
    },
    {
      "cell_type": "code",
      "source": [
        "from pyngrok import ngrok\n",
        "import uvicorn\n",
        "import threading\n",
        "\n",
        "# Start Ngrok\n",
        "public_url = ngrok.connect(8000).public_url\n",
        "print(f\"Public URL: {public_url}\")\n",
        "\n",
        "# Run FastAPI in the background\n",
        "def run():\n",
        "    uvicorn.run(\"app:app\", host=\"0.0.0.0\", port=8000)\n",
        "\n",
        "threading.Thread(target=run).start()\n"
      ],
      "metadata": {
        "colab": {
          "base_uri": "https://localhost:8080/"
        },
        "id": "ATE5EK_5PKKT",
        "outputId": "38451337-0c95-4dfa-e06f-b88605686214"
      },
      "execution_count": 121,
      "outputs": [
        {
          "output_type": "stream",
          "name": "stdout",
          "text": [
            "Public URL: https://81a1-104-196-61-85.ngrok-free.app\n"
          ]
        }
      ]
    },
    {
      "cell_type": "code",
      "source": [],
      "metadata": {
        "id": "QDnoJYjgPMOg"
      },
      "execution_count": null,
      "outputs": []
    }
  ]
}